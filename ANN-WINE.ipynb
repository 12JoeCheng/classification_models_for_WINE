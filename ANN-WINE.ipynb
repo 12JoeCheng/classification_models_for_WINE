{
 "cells": [
  {
   "cell_type": "code",
   "execution_count": 6,
   "metadata": {},
   "outputs": [],
   "source": [
    "import pandas as pd\n",
    "import numpy as np\n",
    "import matplotlib.pyplot as plt\n",
    "import seaborn as sns\n",
    "from sklearn.metrics import mean_squared_error\n",
    "from sklearn.metrics import classification_report"
   ]
  },
  {
   "cell_type": "markdown",
   "metadata": {},
   "source": [
    "## 資料庫:\n",
    "\n",
    "### Source:\n",
    "\n",
    "Original Owners: \\\n",
    "Forina, M. et al, PARVUS - \\\n",
    "An Extendible Package for Data Exploration, Classification and Correlation. \\\n",
    "Institute of Pharmaceutical and Food Analysis and Technologies, Via Brigata Salerno, \\\n",
    "16147 Genoa, Italy. \n",
    "\n",
    "\n",
    "Donor: \\\n",
    "Stefan Aeberhard, email: stefan '@' coral.cs.jcu.edu.au \n",
    "\n",
    "\n",
    "data source: \\\n",
    "https://archive.ics.uci.edu/ml/datasets/Wine"
   ]
  },
  {
   "cell_type": "markdown",
   "metadata": {},
   "source": [
    "### 資料概述\n",
    "\n",
    "These data are the results of a chemical analysis of wines grown in the same region in Italy but derived from three different cultivars. \\\n",
    "The analysis determined the quantities of 13 constituents found in each of the three types of wines. "
   ]
  },
  {
   "cell_type": "code",
   "execution_count": 7,
   "metadata": {},
   "outputs": [],
   "source": [
    "col_names = ['class', 'alcohol', 'malic acid', 'ash', 'alcalinity of ash', 'magnesium', \n",
    "            'total phenols', 'flavanoids', 'nonflavanoid phenols', 'proanthocyanins', \n",
    "            'color intensity', 'hue', 'OD280/OD315 of diluted wines', 'proline']\n",
    "df = pd.read_csv('wine.data', names = col_names)"
   ]
  },
  {
   "cell_type": "code",
   "execution_count": 8,
   "metadata": {},
   "outputs": [
    {
     "data": {
      "text/html": [
       "<div>\n",
       "<style scoped>\n",
       "    .dataframe tbody tr th:only-of-type {\n",
       "        vertical-align: middle;\n",
       "    }\n",
       "\n",
       "    .dataframe tbody tr th {\n",
       "        vertical-align: top;\n",
       "    }\n",
       "\n",
       "    .dataframe thead th {\n",
       "        text-align: right;\n",
       "    }\n",
       "</style>\n",
       "<table border=\"1\" class=\"dataframe\">\n",
       "  <thead>\n",
       "    <tr style=\"text-align: right;\">\n",
       "      <th></th>\n",
       "      <th>alcohol</th>\n",
       "      <th>malic acid</th>\n",
       "      <th>ash</th>\n",
       "      <th>alcalinity of ash</th>\n",
       "      <th>magnesium</th>\n",
       "      <th>total phenols</th>\n",
       "      <th>flavanoids</th>\n",
       "      <th>nonflavanoid phenols</th>\n",
       "      <th>proanthocyanins</th>\n",
       "      <th>color intensity</th>\n",
       "      <th>hue</th>\n",
       "      <th>OD280/OD315 of diluted wines</th>\n",
       "      <th>proline</th>\n",
       "      <th>class</th>\n",
       "    </tr>\n",
       "  </thead>\n",
       "  <tbody>\n",
       "    <tr>\n",
       "      <th>0</th>\n",
       "      <td>14.23</td>\n",
       "      <td>1.71</td>\n",
       "      <td>2.43</td>\n",
       "      <td>15.6</td>\n",
       "      <td>127</td>\n",
       "      <td>2.80</td>\n",
       "      <td>3.06</td>\n",
       "      <td>0.28</td>\n",
       "      <td>2.29</td>\n",
       "      <td>5.64</td>\n",
       "      <td>1.04</td>\n",
       "      <td>3.92</td>\n",
       "      <td>1065</td>\n",
       "      <td>1</td>\n",
       "    </tr>\n",
       "    <tr>\n",
       "      <th>1</th>\n",
       "      <td>13.20</td>\n",
       "      <td>1.78</td>\n",
       "      <td>2.14</td>\n",
       "      <td>11.2</td>\n",
       "      <td>100</td>\n",
       "      <td>2.65</td>\n",
       "      <td>2.76</td>\n",
       "      <td>0.26</td>\n",
       "      <td>1.28</td>\n",
       "      <td>4.38</td>\n",
       "      <td>1.05</td>\n",
       "      <td>3.40</td>\n",
       "      <td>1050</td>\n",
       "      <td>1</td>\n",
       "    </tr>\n",
       "    <tr>\n",
       "      <th>2</th>\n",
       "      <td>13.16</td>\n",
       "      <td>2.36</td>\n",
       "      <td>2.67</td>\n",
       "      <td>18.6</td>\n",
       "      <td>101</td>\n",
       "      <td>2.80</td>\n",
       "      <td>3.24</td>\n",
       "      <td>0.30</td>\n",
       "      <td>2.81</td>\n",
       "      <td>5.68</td>\n",
       "      <td>1.03</td>\n",
       "      <td>3.17</td>\n",
       "      <td>1185</td>\n",
       "      <td>1</td>\n",
       "    </tr>\n",
       "    <tr>\n",
       "      <th>3</th>\n",
       "      <td>14.37</td>\n",
       "      <td>1.95</td>\n",
       "      <td>2.50</td>\n",
       "      <td>16.8</td>\n",
       "      <td>113</td>\n",
       "      <td>3.85</td>\n",
       "      <td>3.49</td>\n",
       "      <td>0.24</td>\n",
       "      <td>2.18</td>\n",
       "      <td>7.80</td>\n",
       "      <td>0.86</td>\n",
       "      <td>3.45</td>\n",
       "      <td>1480</td>\n",
       "      <td>1</td>\n",
       "    </tr>\n",
       "    <tr>\n",
       "      <th>4</th>\n",
       "      <td>13.24</td>\n",
       "      <td>2.59</td>\n",
       "      <td>2.87</td>\n",
       "      <td>21.0</td>\n",
       "      <td>118</td>\n",
       "      <td>2.80</td>\n",
       "      <td>2.69</td>\n",
       "      <td>0.39</td>\n",
       "      <td>1.82</td>\n",
       "      <td>4.32</td>\n",
       "      <td>1.04</td>\n",
       "      <td>2.93</td>\n",
       "      <td>735</td>\n",
       "      <td>1</td>\n",
       "    </tr>\n",
       "  </tbody>\n",
       "</table>\n",
       "</div>"
      ],
      "text/plain": [
       "   alcohol  malic acid   ash  alcalinity of ash  magnesium  total phenols  \\\n",
       "0    14.23        1.71  2.43               15.6        127           2.80   \n",
       "1    13.20        1.78  2.14               11.2        100           2.65   \n",
       "2    13.16        2.36  2.67               18.6        101           2.80   \n",
       "3    14.37        1.95  2.50               16.8        113           3.85   \n",
       "4    13.24        2.59  2.87               21.0        118           2.80   \n",
       "\n",
       "   flavanoids  nonflavanoid phenols  proanthocyanins  color intensity   hue  \\\n",
       "0        3.06                  0.28             2.29             5.64  1.04   \n",
       "1        2.76                  0.26             1.28             4.38  1.05   \n",
       "2        3.24                  0.30             2.81             5.68  1.03   \n",
       "3        3.49                  0.24             2.18             7.80  0.86   \n",
       "4        2.69                  0.39             1.82             4.32  1.04   \n",
       "\n",
       "   OD280/OD315 of diluted wines  proline  class  \n",
       "0                          3.92     1065      1  \n",
       "1                          3.40     1050      1  \n",
       "2                          3.17     1185      1  \n",
       "3                          3.45     1480      1  \n",
       "4                          2.93      735      1  "
      ]
     },
     "execution_count": 8,
     "metadata": {},
     "output_type": "execute_result"
    }
   ],
   "source": [
    "df = pd.concat((df[df.columns[1:]], df[df.columns[0]]), axis = 1)\n",
    "df.head()"
   ]
  },
  {
   "cell_type": "code",
   "execution_count": 9,
   "metadata": {},
   "outputs": [
    {
     "data": {
      "text/plain": [
       "(178, 14)"
      ]
     },
     "execution_count": 9,
     "metadata": {},
     "output_type": "execute_result"
    }
   ],
   "source": [
    "df.shape"
   ]
  },
  {
   "cell_type": "code",
   "execution_count": 10,
   "metadata": {},
   "outputs": [
    {
     "name": "stdout",
     "output_type": "stream",
     "text": [
      "<class 'pandas.core.frame.DataFrame'>\n",
      "RangeIndex: 178 entries, 0 to 177\n",
      "Data columns (total 14 columns):\n",
      " #   Column                        Non-Null Count  Dtype  \n",
      "---  ------                        --------------  -----  \n",
      " 0   alcohol                       178 non-null    float64\n",
      " 1   malic acid                    178 non-null    float64\n",
      " 2   ash                           178 non-null    float64\n",
      " 3   alcalinity of ash             178 non-null    float64\n",
      " 4   magnesium                     178 non-null    int64  \n",
      " 5   total phenols                 178 non-null    float64\n",
      " 6   flavanoids                    178 non-null    float64\n",
      " 7   nonflavanoid phenols          178 non-null    float64\n",
      " 8   proanthocyanins               178 non-null    float64\n",
      " 9   color intensity               178 non-null    float64\n",
      " 10  hue                           178 non-null    float64\n",
      " 11  OD280/OD315 of diluted wines  178 non-null    float64\n",
      " 12  proline                       178 non-null    int64  \n",
      " 13  class                         178 non-null    int64  \n",
      "dtypes: float64(11), int64(3)\n",
      "memory usage: 19.6 KB\n"
     ]
    }
   ],
   "source": [
    "df.info()"
   ]
  },
  {
   "cell_type": "code",
   "execution_count": null,
   "metadata": {},
   "outputs": [],
   "source": [
    "for label in df.columns[:-1]:\n",
    "    plt.figure(figsize = (5,3))\n",
    "    plt.hist(df[df['class']==1][label], color = 'blue', label = '1', alpha = .7, density = True) # normalize\n",
    "    plt.hist(df[df['class']==2][label], color = 'red', label = '2', alpha = .7, density = True)\n",
    "    plt.hist(df[df['class']==3][label], color = 'green', label = '3', alpha = .7, density = True)\n",
    "    plt.title(label)\n",
    "    plt.ylabel('Proba')\n",
    "    plt.xlabel(label)\n",
    "    plt.legend()\n",
    "    plt.tight_layout()\n",
    "    plt.show()"
   ]
  },
  {
   "cell_type": "code",
   "execution_count": null,
   "metadata": {},
   "outputs": [],
   "source": [
    "#sns.pairplot(data = df, hue = 'class', height = 5, corner = True)\n",
    "# or \n",
    "\n",
    "sns.set({'figure.figsize': (5,3)})\n",
    "for i in range(len(col_names) - 1):\n",
    "  for o in range(i + 1, len(col_names)):\n",
    "    x = df.columns[i]\n",
    "    y = df.columns[o]\n",
    "    \n",
    "    sns.scatterplot(data = df, x = x, y = y, hue = 'class',)\n",
    "    plt.show()\n"
   ]
  },
  {
   "cell_type": "markdown",
   "metadata": {},
   "source": [
    "## 預處理"
   ]
  },
  {
   "cell_type": "code",
   "execution_count": 11,
   "metadata": {},
   "outputs": [],
   "source": [
    "from sklearn.preprocessing import StandardScaler\n",
    "from sklearn.model_selection import train_test_split"
   ]
  },
  {
   "cell_type": "markdown",
   "metadata": {},
   "source": [
    "### 標準化"
   ]
  },
  {
   "cell_type": "code",
   "execution_count": 12,
   "metadata": {},
   "outputs": [],
   "source": [
    "def standard_scaler(dataframe):\n",
    "    X = dataframe[dataframe.columns[:-1]].values\n",
    "    y = dataframe[dataframe.columns[-1]].values\n",
    "\n",
    "    scaler = StandardScaler()\n",
    "    X = scaler.fit_transform(X)\n",
    "\n",
    "    data = np.hstack((X, y.reshape(-1, 1)))\n",
    "\n",
    "    return data"
   ]
  },
  {
   "cell_type": "code",
   "execution_count": 13,
   "metadata": {},
   "outputs": [
    {
     "data": {
      "text/html": [
       "<div>\n",
       "<style scoped>\n",
       "    .dataframe tbody tr th:only-of-type {\n",
       "        vertical-align: middle;\n",
       "    }\n",
       "\n",
       "    .dataframe tbody tr th {\n",
       "        vertical-align: top;\n",
       "    }\n",
       "\n",
       "    .dataframe thead th {\n",
       "        text-align: right;\n",
       "    }\n",
       "</style>\n",
       "<table border=\"1\" class=\"dataframe\">\n",
       "  <thead>\n",
       "    <tr style=\"text-align: right;\">\n",
       "      <th></th>\n",
       "      <th>alcohol</th>\n",
       "      <th>malic acid</th>\n",
       "      <th>ash</th>\n",
       "      <th>alcalinity of ash</th>\n",
       "      <th>magnesium</th>\n",
       "      <th>total phenols</th>\n",
       "      <th>flavanoids</th>\n",
       "      <th>nonflavanoid phenols</th>\n",
       "      <th>proanthocyanins</th>\n",
       "      <th>color intensity</th>\n",
       "      <th>hue</th>\n",
       "      <th>OD280/OD315 of diluted wines</th>\n",
       "      <th>proline</th>\n",
       "      <th>class</th>\n",
       "    </tr>\n",
       "  </thead>\n",
       "  <tbody>\n",
       "    <tr>\n",
       "      <th>0</th>\n",
       "      <td>1.518613</td>\n",
       "      <td>-0.562250</td>\n",
       "      <td>0.232053</td>\n",
       "      <td>-1.169593</td>\n",
       "      <td>1.913905</td>\n",
       "      <td>0.808997</td>\n",
       "      <td>1.034819</td>\n",
       "      <td>-0.659563</td>\n",
       "      <td>1.224884</td>\n",
       "      <td>0.251717</td>\n",
       "      <td>0.362177</td>\n",
       "      <td>1.847920</td>\n",
       "      <td>1.013009</td>\n",
       "      <td>1.0</td>\n",
       "    </tr>\n",
       "    <tr>\n",
       "      <th>1</th>\n",
       "      <td>0.246290</td>\n",
       "      <td>-0.499413</td>\n",
       "      <td>-0.827996</td>\n",
       "      <td>-2.490847</td>\n",
       "      <td>0.018145</td>\n",
       "      <td>0.568648</td>\n",
       "      <td>0.733629</td>\n",
       "      <td>-0.820719</td>\n",
       "      <td>-0.544721</td>\n",
       "      <td>-0.293321</td>\n",
       "      <td>0.406051</td>\n",
       "      <td>1.113449</td>\n",
       "      <td>0.965242</td>\n",
       "      <td>1.0</td>\n",
       "    </tr>\n",
       "    <tr>\n",
       "      <th>2</th>\n",
       "      <td>0.196879</td>\n",
       "      <td>0.021231</td>\n",
       "      <td>1.109334</td>\n",
       "      <td>-0.268738</td>\n",
       "      <td>0.088358</td>\n",
       "      <td>0.808997</td>\n",
       "      <td>1.215533</td>\n",
       "      <td>-0.498407</td>\n",
       "      <td>2.135968</td>\n",
       "      <td>0.269020</td>\n",
       "      <td>0.318304</td>\n",
       "      <td>0.788587</td>\n",
       "      <td>1.395148</td>\n",
       "      <td>1.0</td>\n",
       "    </tr>\n",
       "    <tr>\n",
       "      <th>3</th>\n",
       "      <td>1.691550</td>\n",
       "      <td>-0.346811</td>\n",
       "      <td>0.487926</td>\n",
       "      <td>-0.809251</td>\n",
       "      <td>0.930918</td>\n",
       "      <td>2.491446</td>\n",
       "      <td>1.466525</td>\n",
       "      <td>-0.981875</td>\n",
       "      <td>1.032155</td>\n",
       "      <td>1.186068</td>\n",
       "      <td>-0.427544</td>\n",
       "      <td>1.184071</td>\n",
       "      <td>2.334574</td>\n",
       "      <td>1.0</td>\n",
       "    </tr>\n",
       "    <tr>\n",
       "      <th>4</th>\n",
       "      <td>0.295700</td>\n",
       "      <td>0.227694</td>\n",
       "      <td>1.840403</td>\n",
       "      <td>0.451946</td>\n",
       "      <td>1.281985</td>\n",
       "      <td>0.808997</td>\n",
       "      <td>0.663351</td>\n",
       "      <td>0.226796</td>\n",
       "      <td>0.401404</td>\n",
       "      <td>-0.319276</td>\n",
       "      <td>0.362177</td>\n",
       "      <td>0.449601</td>\n",
       "      <td>-0.037874</td>\n",
       "      <td>1.0</td>\n",
       "    </tr>\n",
       "  </tbody>\n",
       "</table>\n",
       "</div>"
      ],
      "text/plain": [
       "    alcohol  malic acid       ash  alcalinity of ash  magnesium  \\\n",
       "0  1.518613   -0.562250  0.232053          -1.169593   1.913905   \n",
       "1  0.246290   -0.499413 -0.827996          -2.490847   0.018145   \n",
       "2  0.196879    0.021231  1.109334          -0.268738   0.088358   \n",
       "3  1.691550   -0.346811  0.487926          -0.809251   0.930918   \n",
       "4  0.295700    0.227694  1.840403           0.451946   1.281985   \n",
       "\n",
       "   total phenols  flavanoids  nonflavanoid phenols  proanthocyanins  \\\n",
       "0       0.808997    1.034819             -0.659563         1.224884   \n",
       "1       0.568648    0.733629             -0.820719        -0.544721   \n",
       "2       0.808997    1.215533             -0.498407         2.135968   \n",
       "3       2.491446    1.466525             -0.981875         1.032155   \n",
       "4       0.808997    0.663351              0.226796         0.401404   \n",
       "\n",
       "   color intensity       hue  OD280/OD315 of diluted wines   proline  class  \n",
       "0         0.251717  0.362177                      1.847920  1.013009    1.0  \n",
       "1        -0.293321  0.406051                      1.113449  0.965242    1.0  \n",
       "2         0.269020  0.318304                      0.788587  1.395148    1.0  \n",
       "3         1.186068 -0.427544                      1.184071  2.334574    1.0  \n",
       "4        -0.319276  0.362177                      0.449601 -0.037874    1.0  "
      ]
     },
     "execution_count": 13,
     "metadata": {},
     "output_type": "execute_result"
    }
   ],
   "source": [
    "transformed_df = standard_scaler(df) \n",
    "transformed_df = pd.DataFrame(transformed_df, columns = df.columns)\n",
    "transformed_df.head()"
   ]
  },
  {
   "cell_type": "markdown",
   "metadata": {},
   "source": [
    "### PCA \n",
    "\n",
    "由於數據裡的參數項目(columns)過多，為避免過於混亂，可以利用PCA方法找出最能代表該數據的參數， \\\n",
    "以此為例，即透過PCA找出最能代表數據95%的表現參數。"
   ]
  },
  {
   "cell_type": "code",
   "execution_count": 14,
   "metadata": {},
   "outputs": [
    {
     "name": "stdout",
     "output_type": "stream",
     "text": [
      "10\n",
      "[0.36198848 0.1920749  0.11123631 0.0706903  0.06563294 0.04935823\n",
      " 0.04238679 0.02680749 0.02222153 0.01930019]\n"
     ]
    }
   ],
   "source": [
    "from sklearn.decomposition import PCA\n",
    "\n",
    "pca = PCA(.95)\n",
    "pca.fit_transform(transformed_df[transformed_df.columns[:-1]])\n",
    "print(pca.n_components_)\n",
    "print(pca.explained_variance_ratio_)"
   ]
  },
  {
   "cell_type": "markdown",
   "metadata": {},
   "source": [
    "若以95%的標準來看，原本擁有13項參數的數據降成10項數據，結果並沒有太大居別，前三大參數加總起來也大概介於60~70%左右， \\\n",
    "所以此方法在這個情況並不是非常理想的。 \n",
    "\n",
    "\n",
    "由於最後的類別有三種，所以換言之，只要找出各參數中三種類別在該參數是否有重疊(overlapped)便可以達到相同效果， \\\n",
    "利用三種類別在參數中各自的平均數與標準差可以各自得到一個區間，只要找出三者互相間都沒有重疊到的參數，代表該參數最能體現個類別的不同處之可能性較高。"
   ]
  },
  {
   "cell_type": "code",
   "execution_count": 15,
   "metadata": {},
   "outputs": [
    {
     "name": "stdout",
     "output_type": "stream",
     "text": [
      "alcohol, 1 and 2 are not overlaped.\n",
      "total phenols, 3 and 1 are not overlaped.\n",
      "flavanoids, 2 and 3 are not overlaped.\n",
      "flavanoids, 3 and 1 are not overlaped.\n",
      "color intensity, 1 and 2 are not overlaped.\n",
      "color intensity, 2 and 3 are not overlaped.\n",
      "hue, 2 and 3 are not overlaped.\n",
      "hue, 3 and 1 are not overlaped.\n",
      "OD280/OD315 of diluted wines, 2 and 3 are not overlaped.\n",
      "OD280/OD315 of diluted wines, 3 and 1 are not overlaped.\n",
      "proline, 1 and 2 are not overlaped.\n",
      "proline, 3 and 1 are not overlaped.\n"
     ]
    }
   ],
   "source": [
    "for label in df.columns[:-1]:\n",
    "    for a in [1, 2, 3]:\n",
    "        if a != 3:\n",
    "            b = a + 1\n",
    "        else:\n",
    "            b = 1\n",
    "        mean_a = np.mean(transformed_df[transformed_df['class'] == a][label])\n",
    "        min_a = np.mean(transformed_df[transformed_df['class'] == a][label]) - np.std(transformed_df[transformed_df['class'] == a][label])\n",
    "        max_a = np.mean(transformed_df[transformed_df['class'] == a][label]) + np.std(transformed_df[transformed_df['class'] == a][label])\n",
    "\n",
    "        mean_b = np.mean(transformed_df[transformed_df['class'] == b][label])\n",
    "        min_b = np.mean(transformed_df[transformed_df['class'] == b][label]) - np.std(transformed_df[transformed_df['class'] == b][label])\n",
    "        max_b = np.mean(transformed_df[transformed_df['class'] == b][label]) + np.std(transformed_df[transformed_df['class'] == b][label])\n",
    "\n",
    "        if not ((min_a <= max_b and min_b <= max_a) or (min_b <= max_a and min_a <= max_b)):\n",
    "            print(f'{label}, {a} and {b} are not overlaped.')\n",
    "        \n",
    "        else:\n",
    "            continue"
   ]
  },
  {
   "cell_type": "code",
   "execution_count": 16,
   "metadata": {},
   "outputs": [],
   "source": [
    "variables = ['flavanoids', 'color intensity', 'hue', 'OD280/OD315 of diluted wines', 'proline', 'class']\n",
    "\n",
    "vari_df = pd.DataFrame([transformed_df[variables[0]],\n",
    "            transformed_df[variables[1]],\n",
    "            transformed_df[variables[2]],\n",
    "            transformed_df[variables[3]],\n",
    "            transformed_df[variables[4]],\n",
    "            transformed_df[variables[5]],\n",
    "            ]).T"
   ]
  },
  {
   "cell_type": "markdown",
   "metadata": {},
   "source": [
    "### 增加資料量\n",
    "\n",
    "此筆原始資料總共只有不到200筆，如果只用這200筆資料去做分析會造成因為資料量過少，使得分析與模型預測的結果可性度大打折扣， \\\n",
    "所以首先要做的是增加資料量。\n",
    "\n",
    "\n",
    "假設各參數在三種類別中皆呈現常態分佈，利用np.random.normal()各生成2000筆資料，並利用新生成資料去訓練模型， \\\n",
    "並利用原始資料(非test data)去測試訓練完之模型的準確度。"
   ]
  },
  {
   "cell_type": "code",
   "execution_count": null,
   "metadata": {},
   "outputs": [],
   "source": [
    "for label in vari_df.columns[:-1]:\n",
    "    for num in [1,2,3]:\n",
    "        plt.figure(figsize=(5,5))\n",
    "        plt.hist(df[vari_df['class'] == num][label], density = True)\n",
    "        plt.title(f'class {num}, {label}')\n",
    "        plt.tight_layout()\n",
    "        plt.show()"
   ]
  },
  {
   "cell_type": "code",
   "execution_count": 17,
   "metadata": {},
   "outputs": [],
   "source": [
    "all_list_dict = {}\n",
    "\n",
    "for label in vari_df.columns[:-1]:\n",
    "    all_list_dict[f'{label}'] = {}\n",
    "\n",
    "    for num in [1, 2, 3]:\n",
    "        vari = vari_df[vari_df['class'] == num][label]\n",
    "        mean = np.mean(vari)\n",
    "        std = np.std(vari)\n",
    "\n",
    "        data = np.random.normal(mean, std, size=2000)\n",
    "\n",
    "        \n",
    "        all_list_dict[f'{label}'][str(num)] = data"
   ]
  },
  {
   "cell_type": "code",
   "execution_count": 18,
   "metadata": {},
   "outputs": [],
   "source": [
    "ok = {}\n",
    "\n",
    "for label in vari_df.columns[:-1]:\n",
    "    ok[f'{label}'] = {}\n",
    "    \n",
    "    for num in [1, 2, 3]:\n",
    "        ok[f'{label}']['0'] = np.hstack((all_list_dict[label]['1'], all_list_dict[label]['2'], all_list_dict[label]['3']))\n",
    "        ok[f'{label}']['class'] = list(len(all_list_dict[label]['1']) * '1' + len(all_list_dict[label]['2']) * '2' + len(all_list_dict[label]['3']) * '3')\n",
    "    "
   ]
  },
  {
   "cell_type": "code",
   "execution_count": 19,
   "metadata": {},
   "outputs": [],
   "source": [
    "result_df = np.hstack((pd.DataFrame([ok['flavanoids']['0']]).T,\n",
    "pd.DataFrame([ok['color intensity']['0']]).T,\n",
    "pd.DataFrame([ok['hue']['0']]).T,\n",
    "pd.DataFrame([ok['OD280/OD315 of diluted wines']['0']]).T,\n",
    "pd.DataFrame([ok['proline']['0'], ok['proline']['class']]).T)).T\n",
    "\n",
    "result_df = pd.DataFrame(result_df).T\n",
    "result_df.columns = ['flavanoids','color intensity','hue','OD280/OD315 of diluted wines', 'proline', 'class']\n",
    "result_df = result_df.astype(float)"
   ]
  },
  {
   "cell_type": "code",
   "execution_count": 20,
   "metadata": {},
   "outputs": [
    {
     "name": "stdout",
     "output_type": "stream",
     "text": [
      "(6000, 6)\n"
     ]
    },
    {
     "data": {
      "text/html": [
       "<div>\n",
       "<style scoped>\n",
       "    .dataframe tbody tr th:only-of-type {\n",
       "        vertical-align: middle;\n",
       "    }\n",
       "\n",
       "    .dataframe tbody tr th {\n",
       "        vertical-align: top;\n",
       "    }\n",
       "\n",
       "    .dataframe thead th {\n",
       "        text-align: right;\n",
       "    }\n",
       "</style>\n",
       "<table border=\"1\" class=\"dataframe\">\n",
       "  <thead>\n",
       "    <tr style=\"text-align: right;\">\n",
       "      <th></th>\n",
       "      <th>flavanoids</th>\n",
       "      <th>color intensity</th>\n",
       "      <th>hue</th>\n",
       "      <th>OD280/OD315 of diluted wines</th>\n",
       "      <th>proline</th>\n",
       "      <th>class</th>\n",
       "    </tr>\n",
       "  </thead>\n",
       "  <tbody>\n",
       "    <tr>\n",
       "      <th>0</th>\n",
       "      <td>1.174107</td>\n",
       "      <td>0.820663</td>\n",
       "      <td>1.083679</td>\n",
       "      <td>0.511454</td>\n",
       "      <td>0.686040</td>\n",
       "      <td>1.0</td>\n",
       "    </tr>\n",
       "    <tr>\n",
       "      <th>1</th>\n",
       "      <td>0.833439</td>\n",
       "      <td>0.177248</td>\n",
       "      <td>0.600596</td>\n",
       "      <td>1.595318</td>\n",
       "      <td>1.838912</td>\n",
       "      <td>1.0</td>\n",
       "    </tr>\n",
       "    <tr>\n",
       "      <th>2</th>\n",
       "      <td>0.748167</td>\n",
       "      <td>0.348250</td>\n",
       "      <td>1.187835</td>\n",
       "      <td>1.378756</td>\n",
       "      <td>1.993958</td>\n",
       "      <td>1.0</td>\n",
       "    </tr>\n",
       "    <tr>\n",
       "      <th>3</th>\n",
       "      <td>0.472625</td>\n",
       "      <td>0.049143</td>\n",
       "      <td>1.095002</td>\n",
       "      <td>0.894043</td>\n",
       "      <td>2.598224</td>\n",
       "      <td>1.0</td>\n",
       "    </tr>\n",
       "    <tr>\n",
       "      <th>4</th>\n",
       "      <td>0.373192</td>\n",
       "      <td>0.434954</td>\n",
       "      <td>0.082431</td>\n",
       "      <td>0.679600</td>\n",
       "      <td>1.291049</td>\n",
       "      <td>1.0</td>\n",
       "    </tr>\n",
       "  </tbody>\n",
       "</table>\n",
       "</div>"
      ],
      "text/plain": [
       "   flavanoids  color intensity       hue  OD280/OD315 of diluted wines  \\\n",
       "0    1.174107         0.820663  1.083679                      0.511454   \n",
       "1    0.833439         0.177248  0.600596                      1.595318   \n",
       "2    0.748167         0.348250  1.187835                      1.378756   \n",
       "3    0.472625         0.049143  1.095002                      0.894043   \n",
       "4    0.373192         0.434954  0.082431                      0.679600   \n",
       "\n",
       "    proline  class  \n",
       "0  0.686040    1.0  \n",
       "1  1.838912    1.0  \n",
       "2  1.993958    1.0  \n",
       "3  2.598224    1.0  \n",
       "4  1.291049    1.0  "
      ]
     },
     "execution_count": 20,
     "metadata": {},
     "output_type": "execute_result"
    }
   ],
   "source": [
    "transformed_df = standard_scaler(result_df)\n",
    "transformed_df = pd.DataFrame(transformed_df, columns = result_df.columns)\n",
    "\n",
    "print(transformed_df.shape)\n",
    "transformed_df.head()"
   ]
  },
  {
   "cell_type": "code",
   "execution_count": 21,
   "metadata": {},
   "outputs": [],
   "source": [
    "# training data\n",
    "train, test = train_test_split(transformed_df, test_size=0.4, random_state=10, stratify = transformed_df['class'])\n",
    "\n",
    "X_train, y_train = train[train.columns[:-1]].values, train[train.columns[-1]].values\n",
    "X_test, y_test = test[test.columns[:-1]].values, test[test.columns[-1]].values\n",
    "\n",
    "\n",
    "# real data\n",
    "real_df = pd.DataFrame(standard_scaler(vari_df))\n",
    "\n",
    "X_real = real_df[real_df.columns[:-1]]\n",
    "y_real = real_df[real_df.columns[-1]]"
   ]
  },
  {
   "cell_type": "markdown",
   "metadata": {},
   "source": [
    "## kNN"
   ]
  },
  {
   "cell_type": "code",
   "execution_count": 22,
   "metadata": {},
   "outputs": [
    {
     "name": "stdout",
     "output_type": "stream",
     "text": [
      "kNN's Root mean square error: 0.24859153808806278\n",
      "kNN's R-squared score: 0.9897222222222222\n",
      "\n",
      "              precision    recall  f1-score   support\n",
      "\n",
      "         1.0       0.92      0.98      0.95        59\n",
      "         2.0       0.98      0.86      0.92        71\n",
      "         3.0       0.91      1.00      0.95        48\n",
      "\n",
      "    accuracy                           0.94       178\n",
      "   macro avg       0.94      0.95      0.94       178\n",
      "weighted avg       0.94      0.94      0.94       178\n",
      "\n"
     ]
    }
   ],
   "source": [
    "from sklearn.neighbors import KNeighborsClassifier\n",
    "\n",
    "knn_model = KNeighborsClassifier(n_neighbors=5)\n",
    "knn_model.fit(X = X_train, y = y_train)\n",
    "preds = knn_model.predict(X = X_real)\n",
    "\n",
    "r_squared_score = knn_model.score(X = X_train, y = y_train)\n",
    "RMSE = mean_squared_error(preds, y_real)**0.5\n",
    "\n",
    "\n",
    "print(f'kNN\\'s Root mean square error: {RMSE}')\n",
    "print(f'kNN\\'s R-squared score: {r_squared_score}\\n')\n",
    "print(classification_report(y_true = y_real, y_pred = preds))"
   ]
  },
  {
   "cell_type": "markdown",
   "metadata": {},
   "source": [
    "## Decision Tree"
   ]
  },
  {
   "cell_type": "code",
   "execution_count": 25,
   "metadata": {},
   "outputs": [
    {
     "name": "stdout",
     "output_type": "stream",
     "text": [
      "Decision tree's Root mean square error: 0.3090398323477543\n",
      "Decision tree's R-squared score: 0.9855555555555555\n",
      "\n",
      "              precision    recall  f1-score   support\n",
      "\n",
      "         1.0       0.88      0.97      0.92        59\n",
      "         2.0       0.94      0.82      0.87        71\n",
      "         3.0       0.90      0.96      0.93        48\n",
      "\n",
      "    accuracy                           0.90       178\n",
      "   macro avg       0.90      0.91      0.91       178\n",
      "weighted avg       0.91      0.90      0.90       178\n",
      "\n"
     ]
    },
    {
     "data": {
      "image/png": "[encoded data removed]",
      "text/plain": [
       "<Figure size 2000x800 with 1 Axes>"
      ]
     },
     "metadata": {},
     "output_type": "display_data"
    }
   ],
   "source": [
    "from sklearn import tree\n",
    "from sklearn.tree import plot_tree\n",
    "\n",
    "tree_model = tree.DecisionTreeClassifier(max_depth=5)\n",
    "tree_model.fit(X = X_train, y = y_train)\n",
    "preds = tree_model.predict(X = X_real)\n",
    "\n",
    "r_squared_score = tree_model.score(X = X_train, y = y_train)\n",
    "RMSE = mean_squared_error(preds, y_real)**0.5\n",
    "\n",
    "\n",
    "print(f'Decision tree\\'s Root mean square error: {RMSE}')\n",
    "print(f'Decision tree\\'s R-squared score: {r_squared_score}\\n')\n",
    "print(classification_report(y_true = y_real, y_pred = preds))\n",
    "\n",
    "plt.figure(figsize = (20,8), facecolor = 'grey')\n",
    "tree.plot_tree(tree_model, fontsize=13, )\n",
    "plt.tight_layout()\n",
    "plt.show()"
   ]
  },
  {
   "cell_type": "markdown",
   "metadata": {},
   "source": [
    "## Random Forest"
   ]
  },
  {
   "cell_type": "code",
   "execution_count": 26,
   "metadata": {},
   "outputs": [
    {
     "name": "stdout",
     "output_type": "stream",
     "text": [
      "flavanoids 0.10494995193806078\n",
      "color intensity 0.118516970028131\n",
      "hue 0.03129740140037876\n",
      "OD280/OD315 of diluted wines 0.3881809107444626\n",
      "proline 0.3570547658889669\n",
      "\n",
      "Random forest's Root mean square error: 0.2702474937259706\n",
      "Random forest's R-squared score: 1.0\n",
      "\n",
      "              precision    recall  f1-score   support\n",
      "\n",
      "         1.0       0.90      0.97      0.93        59\n",
      "         2.0       0.97      0.85      0.90        71\n",
      "         3.0       0.91      1.00      0.95        48\n",
      "\n",
      "    accuracy                           0.93       178\n",
      "   macro avg       0.93      0.94      0.93       178\n",
      "weighted avg       0.93      0.93      0.93       178\n",
      "\n"
     ]
    }
   ],
   "source": [
    "from sklearn.ensemble import RandomForestClassifier\n",
    "\n",
    "rf_model = RandomForestClassifier(n_estimators = 1500, max_features=4, oob_score=True, verbose = 0)\n",
    "rf_model.fit(X = X_train, y = y_train)\n",
    "preds = rf_model.predict(X = X_real)\n",
    "\n",
    "r_squared_score = rf_model.score(X = X_train, y = y_train)\n",
    "RMSE = mean_squared_error(preds, y_real)**0.5\n",
    "\n",
    "for x, y in zip(vari_df[vari_df.columns[:-1]], rf_model.feature_importances_):\n",
    "    print(x, y)\n",
    "\n",
    "print(f'\\nRandom forest\\'s Root mean square error: {RMSE}')\n",
    "print(f'Random forest\\'s R-squared score: {r_squared_score}\\n')\n",
    "print(classification_report(y_true = y_real, y_pred = preds))"
   ]
  },
  {
   "cell_type": "markdown",
   "metadata": {},
   "source": [
    "## SVM"
   ]
  },
  {
   "cell_type": "code",
   "execution_count": 40,
   "metadata": {},
   "outputs": [
    {
     "name": "stdout",
     "output_type": "stream",
     "text": [
      "SVM's Root mean square error: 0.22485950669875843\n",
      "SVM's R-squared score: 0.9902777777777778\n",
      "\n",
      "              precision    recall  f1-score   support\n",
      "\n",
      "         1.0       0.94      0.98      0.96        59\n",
      "         2.0       0.98      0.89      0.93        71\n",
      "         3.0       0.92      1.00      0.96        48\n",
      "\n",
      "    accuracy                           0.95       178\n",
      "   macro avg       0.95      0.96      0.95       178\n",
      "weighted avg       0.95      0.95      0.95       178\n",
      "\n"
     ]
    }
   ],
   "source": [
    "from sklearn.svm import SVC\n",
    "\n",
    "svm_model = SVC()\n",
    "svm_model.fit(X = X_train, y = y_train)\n",
    "preds = svm_model.predict(X = X_real)\n",
    "\n",
    "r_squared_score = svm_model.score(X = X_train, y = y_train)\n",
    "RMSE = mean_squared_error(preds, y_real)**0.5\n",
    "\n",
    "\n",
    "print(f'SVM\\'s Root mean square error: {RMSE}')\n",
    "print(f'SVM\\'s R-squared score: {r_squared_score}\\n')\n",
    "print(classification_report(y_true = y_real, y_pred = preds))"
   ]
  },
  {
   "cell_type": "markdown",
   "metadata": {},
   "source": [
    "## Neural Networks(ANN)"
   ]
  },
  {
   "cell_type": "code",
   "execution_count": 28,
   "metadata": {},
   "outputs": [],
   "source": [
    "import tensorflow as tf"
   ]
  },
  {
   "cell_type": "code",
   "execution_count": 29,
   "metadata": {},
   "outputs": [],
   "source": [
    "# columns['class'] encoder\n",
    "nn_transformed_df = transformed_df.copy()\n",
    "nn_transformed_df['class'] = nn_transformed_df['class'].replace([1,2,3], [0,1,2])\n",
    "\n",
    "nn_real_df = real_df.copy()\n",
    "nn_real_df[nn_real_df.columns[-1]] = nn_real_df[nn_real_df.columns[-1]].replace([1,2,3], [0,1,2])\n",
    "\n",
    "\n",
    "\n",
    "nn_train, nn_test = train_test_split(nn_transformed_df, test_size=0.4, random_state=10, stratify = nn_transformed_df['class'])\n",
    "\n",
    "nn_X_train, nn_y_train = nn_train[nn_train.columns[:-1]].values, nn_train[nn_train.columns[-1]].values\n",
    "nn_X_test, nn_y_test = nn_test[nn_test.columns[:-1]].values, nn_test[nn_test.columns[-1]].values\n",
    "\n",
    "nn_X_real = nn_real_df[nn_real_df.columns[:-1]]\n",
    "nn_y_real = nn_real_df[nn_real_df.columns[-1]]\n"
   ]
  },
  {
   "cell_type": "markdown",
   "metadata": {},
   "source": [
    "### 定義plot_history()"
   ]
  },
  {
   "cell_type": "code",
   "execution_count": 30,
   "metadata": {},
   "outputs": [],
   "source": [
    "def plot_history(history):\n",
    "  fig, (ax1, ax2) = plt.subplots(1, 2, figsize=(10, 3))\n",
    "  ax1.plot(history.history['loss'], label='loss')\n",
    "  ax1.plot(history.history['val_loss'], label='val_loss')\n",
    "  ax1.set_xlabel('Epoch')\n",
    "  ax1.set_ylabel('Binary crossentropy')\n",
    "  ax1.grid(True)\n",
    "  ax1.legend()\n",
    "\n",
    "  ax2.plot(history.history['accuracy'], label='accuracy')\n",
    "  ax2.plot(history.history['val_accuracy'], label='val_accuracy')\n",
    "  ax2.set_xlabel('Epoch')\n",
    "  ax2.set_ylabel('Accuracy')\n",
    "  ax2.grid(True)\n",
    "  ax2.legend()\n",
    "\n",
    "  plt.show()"
   ]
  },
  {
   "cell_type": "markdown",
   "metadata": {},
   "source": [
    "### 定義train_model()"
   ]
  },
  {
   "cell_type": "code",
   "execution_count": 31,
   "metadata": {},
   "outputs": [],
   "source": [
    "def train_model(X_train_data, y_train_data, num_nodes, dropout_proba, lr, epochs, batch_size):\n",
    "    nn_model = tf.keras.Sequential([\n",
    "        tf.keras.layers.Dense(units = num_nodes, input_shape = (5, ), activation = 'relu'),\n",
    "        tf.keras.layers.Dropout(dropout_proba),\n",
    "        tf.keras.layers.Dense(units = num_nodes, activation = 'relu'),\n",
    "        tf.keras.layers.Dropout(dropout_proba),\n",
    "        tf.keras.layers.Dense(units = 3, activation = 'softmax')\n",
    "    ])\n",
    "\n",
    "    nn_model.compile(optimizer = tf.keras.optimizers.Adam(lr), loss = 'sparse_categorical_crossentropy', metrics = ['accuracy'])\n",
    "    \n",
    "    history = nn_model.fit(X_train_data, y_train_data, epochs = epochs, batch_size = batch_size, validation_split = 0.3, verbose = 0)\n",
    "\n",
    "    return nn_model, history"
   ]
  },
  {
   "cell_type": "code",
   "execution_count": null,
   "metadata": {},
   "outputs": [],
   "source": [
    "least_val_loss = float('inf')\n",
    "least_loss_model = None\n",
    "\n",
    "for num_nodes in [32, 64]:\n",
    "    for dropout_proba in [0, 0.2, 0.4]:\n",
    "        for lr in [0.005, 0.001, 0.0005, 0.0001]:\n",
    "            for batch_size in [64, 128, 256]:\n",
    "                epochs = 100\n",
    "                print(f'Nodes: {num_nodes}, Dropout prob: {dropout_proba} , Learing rate: {lr}, Batch size: {batch_size}, Epochs: {epochs}')\n",
    "                model, history = train_model(nn_X_train, nn_y_train, num_nodes, dropout_proba, lr, epochs, batch_size)\n",
    "                # plot_history(history)\n",
    "                val_loss = model.evaluate(nn_X_test, nn_y_test)[0]\n",
    "                if val_loss < least_val_loss:\n",
    "                    least_val_loss = val_loss\n",
    "                    least_loss_model = model"
   ]
  },
  {
   "cell_type": "code",
   "execution_count": 35,
   "metadata": {},
   "outputs": [
    {
     "name": "stdout",
     "output_type": "stream",
     "text": [
      "6/6 [==============================] - 0s 642us/step\n"
     ]
    }
   ],
   "source": [
    "pred = model.predict(nn_X_real)"
   ]
  },
  {
   "cell_type": "code",
   "execution_count": 36,
   "metadata": {},
   "outputs": [
    {
     "data": {
      "text/plain": [
       "[0, 0, 0, 0, 0, 0, 0, 0, 0, 0]"
      ]
     },
     "execution_count": 36,
     "metadata": {},
     "output_type": "execute_result"
    }
   ],
   "source": [
    "prediction = []\n",
    "for i in range(len(pred)):\n",
    "  max_num = np.argmax(pred[i])\n",
    "  prediction.append(max_num)\n",
    "\n",
    "prediction[:10]"
   ]
  },
  {
   "cell_type": "code",
   "execution_count": 38,
   "metadata": {},
   "outputs": [
    {
     "name": "stdout",
     "output_type": "stream",
     "text": [
      "ANN's Root mean square error: 0.211999576001272\n",
      "\n",
      "              precision    recall  f1-score   support\n",
      "\n",
      "         0.0       0.95      0.98      0.97        59\n",
      "         1.0       0.98      0.90      0.94        71\n",
      "         2.0       0.92      1.00      0.96        48\n",
      "\n",
      "    accuracy                           0.96       178\n",
      "   macro avg       0.95      0.96      0.96       178\n",
      "weighted avg       0.96      0.96      0.95       178\n",
      "\n"
     ]
    }
   ],
   "source": [
    "RMSE = mean_squared_error(prediction, nn_y_real)**0.5\n",
    "\n",
    "print(f'ANN\\'s Root mean square error: {RMSE}\\n')\n",
    "print(classification_report(y_true = nn_y_real, y_pred = prediction))"
   ]
  },
  {
   "cell_type": "markdown",
   "metadata": {},
   "source": [
    "## 結論\n",
    "\n",
    "受限於原始資料筆數過少，僅有不到200筆，所以以上預測皆是利用其平均數與標準差透過常態分佈重複抽樣出之資料，並非原始資料， \\\n",
    "訓練完的模型再以原始資料去做比對，多少可以排除因為資料筆數過少而導致的Overfitting。 \\\n",
    "在上述各種限制之下中，ANN(artifical neural networks)準確度為96%為最準確之模型，其他模型最差也有超過九成的準確度。"
   ]
  }
 ],
 "metadata": {
  "kernelspec": {
   "display_name": "Python 3.9.13 ('venv_for_ml')",
   "language": "python",
   "name": "python3"
  },
  "language_info": {
   "codemirror_mode": {
    "name": "ipython",
    "version": 3
   },
   "file_extension": ".py",
   "mimetype": "text/x-python",
   "name": "python",
   "nbconvert_exporter": "python",
   "pygments_lexer": "ipython3",
   "version": "3.9.13"
  },
  "orig_nbformat": 4,
  "vscode": {
   "interpreter": {
    "hash": "c17d210afeb8ab53e618029a0e848f11934eee168ab95b958e22312e83cdc587"
   }
  }
 },
 "nbformat": 4,
 "nbformat_minor": 2
}
